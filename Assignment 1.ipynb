{
 "cells": [
  {
   "cell_type": "markdown",
   "id": "ce69ed6b-258f-4ce2-8a7a-4693581fa60e",
   "metadata": {},
   "source": [
    "## Assignment 1 - Erica Di Pede - 1004030336"
   ]
  },
  {
   "cell_type": "markdown",
   "id": "51315f96-7295-4cfe-980d-30f4a854e789",
   "metadata": {
    "tags": []
   },
   "source": [
    "## 1. Python Data structures and other essentials \n",
    "\n",
    "#### 1.1 Tuples"
   ]
  },
  {
   "cell_type": "code",
   "execution_count": 1029,
   "id": "bcaf15aa-0447-4f1b-8948-ff27d7d551bb",
   "metadata": {},
   "outputs": [],
   "source": [
    "apps_tuple = [\"Google\", \"Facebook\", \"Amazon\", \"Netflix\", \"AirBnB\", \"Instagram\"]"
   ]
  },
  {
   "cell_type": "code",
   "execution_count": 1030,
   "id": "4b6ce4ff-5474-4d4e-971b-5048722c767f",
   "metadata": {},
   "outputs": [
    {
     "data": {
      "text/plain": [
       "('Google', 'Facebook', 'Amazon', 'Netflix', 'AirBnB', 'Instagram')"
      ]
     },
     "execution_count": 1030,
     "metadata": {},
     "output_type": "execute_result"
    }
   ],
   "source": [
    "c = tuple(apps_tuple)\n",
    "c"
   ]
  },
  {
   "cell_type": "code",
   "execution_count": 1031,
   "id": "2e226ac1-f164-40a4-888d-b55e44502d39",
   "metadata": {},
   "outputs": [
    {
     "data": {
      "text/plain": [
       "tuple"
      ]
     },
     "execution_count": 1031,
     "metadata": {},
     "output_type": "execute_result"
    }
   ],
   "source": [
    "type(c)"
   ]
  },
  {
   "cell_type": "code",
   "execution_count": 1032,
   "id": "3ae13b7b-955d-4e9b-b6b4-41d62eb1bb07",
   "metadata": {},
   "outputs": [
    {
     "data": {
      "text/plain": [
       "'Facebook'"
      ]
     },
     "execution_count": 1032,
     "metadata": {},
     "output_type": "execute_result"
    }
   ],
   "source": [
    "c[1]"
   ]
  },
  {
   "cell_type": "code",
   "execution_count": 1035,
   "id": "9a07f4f8-0427-4389-84c1-039cefa17feb",
   "metadata": {},
   "outputs": [
    {
     "data": {
      "text/plain": [
       "('Instagram',)"
      ]
     },
     "execution_count": 1035,
     "metadata": {},
     "output_type": "execute_result"
    }
   ],
   "source": [
    "c[::-6] "
   ]
  },
  {
   "cell_type": "code",
   "execution_count": 1034,
   "id": "e6291b85-8d00-405c-87aa-cdaba2ff31a3",
   "metadata": {},
   "outputs": [
    {
     "data": {
      "text/plain": [
       "('Facebook', 'Amazon', 'Netflix')"
      ]
     },
     "execution_count": 1034,
     "metadata": {},
     "output_type": "execute_result"
    }
   ],
   "source": [
    "c[1:4]"
   ]
  },
  {
   "cell_type": "markdown",
   "id": "20c1d23e-2589-4f90-8479-d15fb04683cc",
   "metadata": {},
   "source": [
    "Because tuples are immutable (which means they cannot be modified) you cannot add the element \"Messenger\" to the tuple. If you wanted to add Messenger to the tuple you would have to turn apps_tuple into a list, append 'Messenger' to the list and then convert the list back to a tuple. "
   ]
  },
  {
   "cell_type": "markdown",
   "id": "cb4202a6-8d79-4b10-b08b-1243c6c810ca",
   "metadata": {},
   "source": [
    "### 1.2 Lists"
   ]
  },
  {
   "cell_type": "code",
   "execution_count": 123,
   "id": "8800defc-1128-4e0f-b10c-b90575d37928",
   "metadata": {},
   "outputs": [],
   "source": [
    "apps_list = [\"Google\", \"Facebook\", \"Amazon\",\"Netflix\", \"AirBnB\", \"Instagram\"]"
   ]
  },
  {
   "cell_type": "code",
   "execution_count": 1186,
   "id": "f2cbf15f-74ae-441c-8534-68ccb56e4970",
   "metadata": {},
   "outputs": [
    {
     "data": {
      "text/plain": [
       "('Google', 'Facebook', 'Amazon')"
      ]
     },
     "execution_count": 1186,
     "metadata": {},
     "output_type": "execute_result"
    }
   ],
   "source": [
    "c[:3]"
   ]
  },
  {
   "cell_type": "code",
   "execution_count": 1187,
   "id": "7f065917-4d67-4206-adc2-df31bdf87906",
   "metadata": {},
   "outputs": [
    {
     "data": {
      "text/plain": [
       "('AirBnB', 'Instagram')"
      ]
     },
     "execution_count": 1187,
     "metadata": {},
     "output_type": "execute_result"
    }
   ],
   "source": [
    "c[4:]"
   ]
  },
  {
   "cell_type": "code",
   "execution_count": 127,
   "id": "75599619-0ee3-4aa8-90ac-89c444f69451",
   "metadata": {},
   "outputs": [
    {
     "name": "stdout",
     "output_type": "stream",
     "text": [
      "['Google', 'Youtube', 'Facebook', 'Amazon', 'Netflix', 'AirBnB', 'Instagram', 'Messenger']\n"
     ]
    }
   ],
   "source": [
    "apps_list.append('Messenger')\n",
    "apps_list.insert(1,'Youtube')\n",
    "print(apps_list)"
   ]
  },
  {
   "cell_type": "code",
   "execution_count": 128,
   "id": "b27bd370-f8f2-4d68-b00b-af1f18c2036a",
   "metadata": {},
   "outputs": [],
   "source": [
    "apps_list.remove('Facebook')"
   ]
  },
  {
   "cell_type": "code",
   "execution_count": 129,
   "id": "91fc7f54-24d2-4b9c-ba25-55f9d469cf2a",
   "metadata": {},
   "outputs": [
    {
     "data": {
      "text/plain": [
       "False"
      ]
     },
     "execution_count": 129,
     "metadata": {},
     "output_type": "execute_result"
    }
   ],
   "source": [
    "'Facebook' in apps_list"
   ]
  },
  {
   "cell_type": "code",
   "execution_count": 130,
   "id": "c45319a0-c46f-4beb-b4ad-22b1655eee14",
   "metadata": {},
   "outputs": [
    {
     "name": "stdout",
     "output_type": "stream",
     "text": [
      "['Google', 'Youtube', 'Amazon', 'Netflix', 'AirBnB', 'Instagram', 'Messenger', 'LinkedIn', 'Twitter']\n"
     ]
    }
   ],
   "source": [
    "new_list = [\"LinkedIn\", \"Twitter\"]\n",
    "newer_list = apps_list + new_list\n",
    "print(newer_list)"
   ]
  },
  {
   "cell_type": "markdown",
   "id": "cdbfd709-638d-4614-8784-1bb1fc0231bd",
   "metadata": {},
   "source": [
    "### 1.3 Dicts"
   ]
  },
  {
   "cell_type": "markdown",
   "id": "d62b79c8-dcad-4c80-97a5-5dbf9719a09c",
   "metadata": {},
   "source": [
    "#### 1.3.1"
   ]
  },
  {
   "cell_type": "code",
   "execution_count": 7,
   "id": "724b5a47-c641-42c3-b46e-c534a59cf270",
   "metadata": {},
   "outputs": [
    {
     "data": {
      "text/plain": [
       "{'app0': ['Google'],\n",
       " 'app1': ['Facebook'],\n",
       " 'app2': ['Amazon'],\n",
       " 'app3': ['Netflix'],\n",
       " 'app4': ['AirBnB'],\n",
       " 'app5': ['Instagram']}"
      ]
     },
     "execution_count": 7,
     "metadata": {},
     "output_type": "execute_result"
    }
   ],
   "source": [
    "apps_dict = {'app0': ['Google'], 'app1': ['Facebook'], 'app2': ['Amazon'], 'app3': ['Netflix'], 'app4': ['AirBnB'], 'app5': ['Instagram']}\n",
    "apps_dict"
   ]
  },
  {
   "cell_type": "code",
   "execution_count": 8,
   "id": "f6e52cbb-5814-4a8c-bea0-5e287c6045bb",
   "metadata": {},
   "outputs": [
    {
     "data": {
      "text/plain": [
       "['Facebook']"
      ]
     },
     "execution_count": 8,
     "metadata": {},
     "output_type": "execute_result"
    }
   ],
   "source": [
    "apps_dict['app1']"
   ]
  },
  {
   "cell_type": "markdown",
   "id": "3f3f1f50-277b-46e4-8c37-7d5541119e02",
   "metadata": {},
   "source": [
    "#### 1.3.2"
   ]
  },
  {
   "cell_type": "code",
   "execution_count": 9,
   "id": "9dc83f62-c5fe-4005-90bd-3854b3e9631c",
   "metadata": {},
   "outputs": [
    {
     "data": {
      "text/plain": [
       "{'app0': ['Google'],\n",
       " 'app1': ['youtube'],\n",
       " 'app2': ['Amazon'],\n",
       " 'app3': ['Netflix'],\n",
       " 'app4': ['AirBnB'],\n",
       " 'app5': ['Instagram']}"
      ]
     },
     "execution_count": 9,
     "metadata": {},
     "output_type": "execute_result"
    }
   ],
   "source": [
    "apps_dict.update({'app1': ['youtube']})\n",
    "apps_dict"
   ]
  },
  {
   "cell_type": "markdown",
   "id": "14e81841-ac6b-4d9a-add3-58ba43aa0d9b",
   "metadata": {},
   "source": [
    "#### 1.3.3"
   ]
  },
  {
   "cell_type": "code",
   "execution_count": 10,
   "id": "cce98304-cdbd-47bd-a170-b02a5b0e36ee",
   "metadata": {},
   "outputs": [
    {
     "data": {
      "text/plain": [
       "{'app0': ['Google'],\n",
       " 'app1': ['youtube'],\n",
       " 'app2': ['Amazon'],\n",
       " 'app3': ['Netflix'],\n",
       " 'app4': ['AirBnB'],\n",
       " 'app5': ['Instagram'],\n",
       " 'app6': ['Messenger']}"
      ]
     },
     "execution_count": 10,
     "metadata": {},
     "output_type": "execute_result"
    }
   ],
   "source": [
    "apps_dict['app6'] = ['Messenger']\n",
    "apps_dict"
   ]
  },
  {
   "cell_type": "markdown",
   "id": "b0f59f68-6b94-453b-b5c6-c30bfcc78a02",
   "metadata": {},
   "source": [
    "#### 1.3.4\n",
    "\n",
    "#### this syntax replaces existing element value for key with a new value for the key, which is now defined as \"Messenger\" (was youtube)"
   ]
  },
  {
   "cell_type": "code",
   "execution_count": 11,
   "id": "f6d6fd5e-8cca-4d07-b45f-9fee406f394f",
   "metadata": {},
   "outputs": [
    {
     "data": {
      "text/plain": [
       "{'app0': ['Google'],\n",
       " 'app1': ['Messenger'],\n",
       " 'app2': ['Amazon'],\n",
       " 'app3': ['Netflix'],\n",
       " 'app4': ['AirBnB'],\n",
       " 'app5': ['Instagram'],\n",
       " 'app6': ['Messenger']}"
      ]
     },
     "execution_count": 11,
     "metadata": {},
     "output_type": "execute_result"
    }
   ],
   "source": [
    "apps_dict ['app1'] = [\"Messenger\"]\n",
    "apps_dict"
   ]
  },
  {
   "cell_type": "markdown",
   "id": "2ab0b9e4-f572-45b3-b9bf-a1e6f92420bd",
   "metadata": {},
   "source": [
    "#### 1.3.5"
   ]
  },
  {
   "cell_type": "code",
   "execution_count": 12,
   "id": "430b4e2a-710e-44c3-9239-8a621f4ffc9b",
   "metadata": {},
   "outputs": [
    {
     "data": {
      "text/plain": [
       "{'app0': ['Google'],\n",
       " 'app1': ['Messenger'],\n",
       " 'app2': ['Amazon'],\n",
       " 'app3': ['Netflix'],\n",
       " 'app4': ['AirBnB'],\n",
       " 'app5': ['Instagram'],\n",
       " 'app6': ['Messenger'],\n",
       " 'App1': ['Facebook']}"
      ]
     },
     "execution_count": 12,
     "metadata": {},
     "output_type": "execute_result"
    }
   ],
   "source": [
    "apps_dict['App1'] = ['Facebook']\n",
    "apps_dict"
   ]
  },
  {
   "cell_type": "markdown",
   "id": "90e29af6-1a54-4b4d-a9dc-0fdbe4438bc5",
   "metadata": {},
   "source": [
    "#### because App has a captial A and not a lowercase a, App1 is a NEW key and is added to the dictionary as another key/value pair instead of being replaced by the current app1 value if a was a lower case"
   ]
  },
  {
   "cell_type": "markdown",
   "id": "b08f219c-20fc-4c32-a854-1f22d02f53c3",
   "metadata": {},
   "source": [
    "#### 1.3.6\n",
    "\n",
    "This syntax removes the key App1 and its associated value in the dictionary"
   ]
  },
  {
   "cell_type": "code",
   "execution_count": 15,
   "id": "39bcb7df-217f-4032-92ee-285c5543f6bd",
   "metadata": {},
   "outputs": [
    {
     "data": {
      "text/plain": [
       "{'app0': ['Google'],\n",
       " 'app2': ['Amazon'],\n",
       " 'app3': ['Netflix'],\n",
       " 'app4': ['AirBnB'],\n",
       " 'app5': ['Instagram'],\n",
       " 'app6': ['Messenger']}"
      ]
     },
     "execution_count": 15,
     "metadata": {},
     "output_type": "execute_result"
    }
   ],
   "source": [
    "del apps_dict['App1']\n",
    "apps_dict\n",
    "# this syntac removes the key ['app1']"
   ]
  },
  {
   "cell_type": "markdown",
   "id": "8306eedb-fdbf-4289-8d99-02c409cd0109",
   "metadata": {},
   "source": [
    "### 1.4 List Comprehension "
   ]
  },
  {
   "cell_type": "code",
   "execution_count": 174,
   "id": "7d0f3ece-fe09-41e1-b339-6417b6bcbb19",
   "metadata": {},
   "outputs": [],
   "source": [
    "values = [7,12,9,18,15]"
   ]
  },
  {
   "cell_type": "code",
   "execution_count": 175,
   "id": "0a8448d6-0210-496a-893a-1ddfe11e7bc8",
   "metadata": {},
   "outputs": [
    {
     "data": {
      "text/plain": [
       "list"
      ]
     },
     "execution_count": 175,
     "metadata": {},
     "output_type": "execute_result"
    }
   ],
   "source": [
    "type(values)"
   ]
  },
  {
   "cell_type": "code",
   "execution_count": 180,
   "id": "729e7662-a11f-4f73-90f0-6e2d380ef2fd",
   "metadata": {},
   "outputs": [
    {
     "name": "stdout",
     "output_type": "stream",
     "text": [
      "[2.6457513110645907, 3.4641016151377544, 3.0, 4.242640687119285, 3.872983346207417]\n"
     ]
    }
   ],
   "source": [
    "import numpy as np \n",
    "sqr_root = [np.sqrt(num) for num in values]\n",
    "print(sqr_root)"
   ]
  },
  {
   "cell_type": "markdown",
   "id": "e0dd590b-a80f-4fd9-9382-a1e07a0536fd",
   "metadata": {},
   "source": [
    "### 1.5 Functions and Control Flow"
   ]
  },
  {
   "cell_type": "code",
   "execution_count": 201,
   "id": "698a05d8-98a4-47a8-8b08-c89dd7a817db",
   "metadata": {},
   "outputs": [
    {
     "name": "stdout",
     "output_type": "stream",
     "text": [
      "[605, 837, 620, 820, 847, 809, 841, 739, 800, 741]\n"
     ]
    }
   ],
   "source": [
    "import numpy as np\n",
    "\n",
    "def Rand(start,end,num):\n",
    "    res = []\n",
    " \n",
    "    for j in range(num):\n",
    "        res.append(np.random.randint(start,end))\n",
    " \n",
    "    return res\n",
    "\n",
    "num = 10\n",
    "start = 600\n",
    "end = 900\n",
    "print(Rand(start, end, num))"
   ]
  },
  {
   "cell_type": "code",
   "execution_count": 209,
   "id": "3d12eff7-4a10-4c6e-92ad-8986db2fe1cc",
   "metadata": {},
   "outputs": [],
   "source": [
    "def credit_score(x):\n",
    "    if 600 <= x <= 699:\n",
    "        print (\"Low\")\n",
    "    if 700 <= x <= 799:\n",
    "        print ('Medium')\n",
    "    if 800 <= x <= 900:\n",
    "        print ('High')"
   ]
  },
  {
   "cell_type": "code",
   "execution_count": 210,
   "id": "b7f3f254-b6e5-4fac-ba67-f976d6a61d3b",
   "metadata": {},
   "outputs": [
    {
     "name": "stdout",
     "output_type": "stream",
     "text": [
      "Low\n"
     ]
    }
   ],
   "source": [
    "credit_score(650)"
   ]
  },
  {
   "cell_type": "code",
   "execution_count": 211,
   "id": "a4c2e2c1-ae0a-44f9-9353-100017132426",
   "metadata": {},
   "outputs": [
    {
     "name": "stdout",
     "output_type": "stream",
     "text": [
      "Medium\n"
     ]
    }
   ],
   "source": [
    "credit_score(750)"
   ]
  },
  {
   "cell_type": "code",
   "execution_count": 212,
   "id": "3d55610a-6269-4d28-a972-60c05df88dcc",
   "metadata": {},
   "outputs": [
    {
     "name": "stdout",
     "output_type": "stream",
     "text": [
      "High\n"
     ]
    }
   ],
   "source": [
    "credit_score(800)"
   ]
  },
  {
   "cell_type": "markdown",
   "id": "f0d5eee0-0ff8-4a91-9480-22b12bf42f99",
   "metadata": {
    "tags": []
   },
   "source": [
    "  \n",
    "    \n",
    "## 2. Linear Algebra in Numpy\n",
    "\n",
    "### 2.1 Matrix Calculations\n",
    "\n",
    "### 2.1.1"
   ]
  },
  {
   "cell_type": "code",
   "execution_count": 1189,
   "id": "fb86634f-4e73-4940-93f6-39e21d33fff0",
   "metadata": {
    "tags": []
   },
   "outputs": [
    {
     "data": {
      "text/plain": [
       "array([[2, 1],\n",
       "       [1, 1],\n",
       "       [2, 3]])"
      ]
     },
     "execution_count": 1189,
     "metadata": {},
     "output_type": "execute_result"
    }
   ],
   "source": [
    "Matrix_A = np.array([[2, 1], [1, 1], [2, 3]])\n",
    "Matrix_A"
   ]
  },
  {
   "cell_type": "code",
   "execution_count": 1190,
   "id": "d318fddd-c1db-4f58-96be-3721ec2ee091",
   "metadata": {},
   "outputs": [
    {
     "data": {
      "text/plain": [
       "array([[-4,  1],\n",
       "       [ 3, -1],\n",
       "       [-2,  1]])"
      ]
     },
     "execution_count": 1190,
     "metadata": {},
     "output_type": "execute_result"
    }
   ],
   "source": [
    "Matrix_B = np.array([[-4, 1], [3, -1], [-2, 1]])\n",
    "Matrix_B"
   ]
  },
  {
   "cell_type": "code",
   "execution_count": 1191,
   "id": "cebb5829-dce1-45cd-849b-f792b0f3c445",
   "metadata": {},
   "outputs": [
    {
     "data": {
      "text/plain": [
       "array([[4, 2],\n",
       "       [2, 2],\n",
       "       [4, 6]])"
      ]
     },
     "execution_count": 1191,
     "metadata": {},
     "output_type": "execute_result"
    }
   ],
   "source": [
    "Matrix_A*2\n",
    "# this is 2A"
   ]
  },
  {
   "cell_type": "code",
   "execution_count": 1192,
   "id": "7d99649c-e7e0-42d5-8acf-c893bea75733",
   "metadata": {},
   "outputs": [
    {
     "data": {
      "text/plain": [
       "array([[12, -3],\n",
       "       [-9,  3],\n",
       "       [ 6, -3]])"
      ]
     },
     "execution_count": 1192,
     "metadata": {},
     "output_type": "execute_result"
    }
   ],
   "source": [
    "-3*Matrix_B\n",
    "#this is -3B"
   ]
  },
  {
   "cell_type": "code",
   "execution_count": 1193,
   "id": "69caca6b-67ea-45e7-b675-6bf40a68cc83",
   "metadata": {},
   "outputs": [
    {
     "data": {
      "text/plain": [
       "array([[-2,  2],\n",
       "       [ 4,  0],\n",
       "       [ 0,  4]])"
      ]
     },
     "execution_count": 1193,
     "metadata": {},
     "output_type": "execute_result"
    }
   ],
   "source": [
    "Matrix_A + Matrix_B\n",
    "#this is A+B"
   ]
  },
  {
   "cell_type": "markdown",
   "id": "7cb9a6b8-4676-43b4-9d9d-7eeb2d4d39ed",
   "metadata": {},
   "source": [
    "### 2.1.2"
   ]
  },
  {
   "cell_type": "code",
   "execution_count": 1037,
   "id": "c138dd60-57d2-44db-bf8f-2a97d9025373",
   "metadata": {},
   "outputs": [
    {
     "data": {
      "text/plain": [
       "array([[ 2, -6],\n",
       "       [-4,  0],\n",
       "       [ 1,  5]])"
      ]
     },
     "execution_count": 1037,
     "metadata": {},
     "output_type": "execute_result"
    }
   ],
   "source": [
    "Matrix_A2 = np.array([[2, -6], [-4, 0], [1, 5]])\n",
    "Matrix_A2"
   ]
  },
  {
   "cell_type": "code",
   "execution_count": 1038,
   "id": "b33452cc-24b0-470d-b2ae-256a39ddc369",
   "metadata": {},
   "outputs": [
    {
     "data": {
      "text/plain": [
       "array([[1, 1],\n",
       "       [2, 3]])"
      ]
     },
     "execution_count": 1038,
     "metadata": {},
     "output_type": "execute_result"
    }
   ],
   "source": [
    "Matrix_B2 = np.array([[1, 1], [2, 3]])\n",
    "Matrix_B2                 "
   ]
  },
  {
   "cell_type": "code",
   "execution_count": 1039,
   "id": "c0007cf9-70f3-405c-a96b-504c6005a38d",
   "metadata": {},
   "outputs": [
    {
     "data": {
      "text/plain": [
       "array([[ 3., -1.],\n",
       "       [-2.,  1.]])"
      ]
     },
     "execution_count": 1039,
     "metadata": {},
     "output_type": "execute_result"
    }
   ],
   "source": [
    "dot_product = np.linalg.inv(Matrix_B2)\n",
    "dot_product"
   ]
  },
  {
   "cell_type": "code",
   "execution_count": 1040,
   "id": "b4bd3205-a24f-4c90-a49a-68cb3e1ca908",
   "metadata": {},
   "outputs": [
    {
     "name": "stdout",
     "output_type": "stream",
     "text": [
      "[[-10 -16]\n",
      " [ -4  -4]\n",
      " [ 11  16]]\n"
     ]
    }
   ],
   "source": [
    "import numpy as np\n",
    "result = np.dot(Matrix_A2,Matrix_B2)\n",
    "print(result)"
   ]
  },
  {
   "cell_type": "code",
   "execution_count": 1065,
   "id": "fcef070c-61f2-4165-a976-aaaf3e67dfc6",
   "metadata": {},
   "outputs": [
    {
     "name": "stdout",
     "output_type": "stream",
     "text": [
      "matrix A with replacement = \n",
      " [[ 1  0  3  1]\n",
      " [-2  1  3  2]\n",
      " [ 0  0  0  2]\n",
      " [ 3  2  1 -1]]\n",
      "\n",
      "det of original A =  42.00000000000001\n"
     ]
    }
   ],
   "source": [
    "Matrix_A = np.array([[1,0,4,1],[-2,1,-3,2],[0,0,0,2],[3,2,1,-1]])\n",
    "\n",
    "print (\"matrix A with replacement = \\n\", np.where(abs(Matrix_A)>=3, 3, A)) \n",
    "print (\"\\ndet of original A = \", np.linalg.det(Matrix_A))\n"
   ]
  },
  {
   "cell_type": "markdown",
   "id": "4ed36afb-e40f-4557-a79f-1b11805127db",
   "metadata": {},
   "source": [
    "## 2.2 Norms and Eigen Values "
   ]
  },
  {
   "cell_type": "markdown",
   "id": "de1f2771-04e5-46fb-8c54-56e5bb2cb8ef",
   "metadata": {},
   "source": [
    "### 2.2.1 "
   ]
  },
  {
   "cell_type": "code",
   "execution_count": 17,
   "id": "55129fc4-4c84-45d0-8181-3f9e774064e6",
   "metadata": {},
   "outputs": [
    {
     "data": {
      "text/plain": [
       "3.7416573867739413"
      ]
     },
     "execution_count": 17,
     "metadata": {},
     "output_type": "execute_result"
    }
   ],
   "source": [
    "import numpy as np\n",
    "\n",
    "x1 = [1,-2,3]\n",
    "x1_FN = np.linalg.norm(x1)\n",
    "x1_FN #Frobenius norm"
   ]
  },
  {
   "cell_type": "code",
   "execution_count": 23,
   "id": "b6912663-74c8-48e3-96a7-3404bf7a7a9e",
   "metadata": {},
   "outputs": [
    {
     "data": {
      "text/plain": [
       "3"
      ]
     },
     "execution_count": 23,
     "metadata": {},
     "output_type": "execute_result"
    }
   ],
   "source": [
    "x1 = [1,-2,3]\n",
    "x1_FN = np.amax(x1)\n",
    "x1_FN # maximum"
   ]
  },
  {
   "cell_type": "code",
   "execution_count": 18,
   "id": "5836efd1-2526-438f-b9c6-44722ed1de3a",
   "metadata": {},
   "outputs": [
    {
     "data": {
      "text/plain": [
       "3.0"
      ]
     },
     "execution_count": 18,
     "metadata": {},
     "output_type": "execute_result"
    }
   ],
   "source": [
    "x2 = [2,0,1,2]\n",
    "x2_FN = np.linalg.norm(x2)\n",
    "x2_FN #Frobenius norm"
   ]
  },
  {
   "cell_type": "code",
   "execution_count": 24,
   "id": "537892b8-417f-4941-9189-5c00ca6fcb75",
   "metadata": {},
   "outputs": [
    {
     "data": {
      "text/plain": [
       "2"
      ]
     },
     "execution_count": 24,
     "metadata": {},
     "output_type": "execute_result"
    }
   ],
   "source": [
    "x2 = [2,0,1,2]\n",
    "x2_FN = np.amax(x2)\n",
    "x2_FN # maximum"
   ]
  },
  {
   "cell_type": "code",
   "execution_count": 25,
   "id": "75fd95d8-ca33-462c-b693-09e3e9c2590d",
   "metadata": {},
   "outputs": [
    {
     "data": {
      "text/plain": [
       "4.69041575982343"
      ]
     },
     "execution_count": 25,
     "metadata": {},
     "output_type": "execute_result"
    }
   ],
   "source": [
    "x3 = [0,1,-4,2,-1]\n",
    "x3_FN = np.linalg.norm(x3)\n",
    "x3_FN #Frobenius norm"
   ]
  },
  {
   "cell_type": "code",
   "execution_count": 26,
   "id": "22457bbe-32dd-43f5-a24b-da46d6978b2f",
   "metadata": {},
   "outputs": [
    {
     "data": {
      "text/plain": [
       "2"
      ]
     },
     "execution_count": 26,
     "metadata": {},
     "output_type": "execute_result"
    }
   ],
   "source": [
    "x3 = [0,1,-4,2,-1]\n",
    "x3_FN = np.amax(x3)\n",
    "x3_FN #maximum"
   ]
  },
  {
   "cell_type": "markdown",
   "id": "6fd36d14-78ee-4bbc-851e-61e0962846b0",
   "metadata": {},
   "source": [
    "### 2.2.2"
   ]
  },
  {
   "cell_type": "code",
   "execution_count": 1059,
   "id": "b01e096c-caf5-44f7-b29e-56d083142c7b",
   "metadata": {},
   "outputs": [
    {
     "name": "stdout",
     "output_type": "stream",
     "text": [
      "A1: L2 norm = 5.477225575051661 , L_inf norm = 7.0\n",
      "A2: L2 norm = 3.1622776601683795 , L_inf norm = 3.0\n"
     ]
    }
   ],
   "source": [
    "A1 = np.array([[1,-2],[4,3]])\n",
    "A2 = np.array([[1,0,2],[0,1,-1],[-1,1,1]])\n",
    "\n",
    "print(\"A1: L2 norm =\", np.linalg.norm(A1),\n",
    "      \", L_inf norm =\", np.linalg.norm(A1,np.inf))\n",
    "\n",
    "print(\"A2: L2 norm =\", np.linalg.norm(A2),\n",
    "      \", L_inf norm =\", np.linalg.norm(A2,np.inf))"
   ]
  },
  {
   "cell_type": "markdown",
   "id": "3b2d17b4-2d54-4d6c-bc22-d74883ff2aed",
   "metadata": {},
   "source": [
    "### 2.2.3"
   ]
  },
  {
   "cell_type": "code",
   "execution_count": 1063,
   "id": "9d6f7a09-1716-4809-aa32-6100a99fa4a5",
   "metadata": {},
   "outputs": [
    {
     "data": {
      "text/plain": [
       "(array([-12.,   3.,  -3.]),\n",
       " array([[ 0.33333333,  0.57735027,  0.40824829],\n",
       "        [ 0.66666667, -0.57735027,  0.81649658],\n",
       "        [-0.66666667,  0.57735027,  0.40824829]]))"
      ]
     },
     "execution_count": 1063,
     "metadata": {},
     "output_type": "execute_result"
    }
   ],
   "source": [
    "A = np.array([[-2, -2,3], [-10, -1,6], [10,-2,-9]])\n",
    "A_eign = np.linalg.eig(A)\n",
    "A_eign"
   ]
  },
  {
   "cell_type": "markdown",
   "id": "a3bb030d-4d5a-4f0a-b9a0-25c0713bf5f6",
   "metadata": {},
   "source": [
    "## 3. Pandas Manipulations"
   ]
  },
  {
   "cell_type": "markdown",
   "id": "9fc4772a-b53d-4ed9-a3df-f7c6455e9489",
   "metadata": {},
   "source": [
    "### 3.1 "
   ]
  },
  {
   "cell_type": "code",
   "execution_count": 1205,
   "id": "f4dd3cfe-e392-4eae-a56b-0fca0ea1bcb1",
   "metadata": {},
   "outputs": [],
   "source": [
    "import pandas as pd"
   ]
  },
  {
   "cell_type": "code",
   "execution_count": 1206,
   "id": "4a7d0a4e-1d3b-4329-94ed-ef4c180ba76f",
   "metadata": {},
   "outputs": [],
   "source": [
    "df = pd.read_csv('gas_prices.csv')\n",
    "df['Date'] = pd.to_datetime(df['Date'],format='%d/%m/%Y')"
   ]
  },
  {
   "cell_type": "code",
   "execution_count": 1207,
   "id": "9edd3954-1992-4ced-9e90-d58bfc5dfa1d",
   "metadata": {},
   "outputs": [
    {
     "name": "stdout",
     "output_type": "stream",
     "text": [
      "        Date  Price_pl\n",
      "0 2015-11-12     1.049\n",
      "1 2015-11-19     0.999\n",
      "2 2015-12-07     0.999\n",
      "3 2015-12-19     1.019\n",
      "4 2016-01-04     1.019\n"
     ]
    }
   ],
   "source": [
    "import pandas as pd\n",
    "import numpy as np\n",
    "\n",
    "df.loc[df['Price_pl'].isnull(), 'Price_pl'] = 0\n",
    "print (df.head())\n",
    "\n",
    "#changing all Nan to a numerical value so i can set a condition on it for looping purposes"
   ]
  },
  {
   "cell_type": "code",
   "execution_count": 1208,
   "id": "83744169-2b8d-494f-b55e-7693bcf54f46",
   "metadata": {},
   "outputs": [],
   "source": [
    " def iterrow(df,col):\n",
    "    for i, row in df.iterrows():\n",
    "        val = row[col]\n",
    "        if val < .5:\n",
    "            prev_one = df.loc[i-1, 'Price_pl']\n",
    "            next_one = df.loc[i+1, 'Price_pl']\n",
    "            avg = (prev_one + next_one)/2\n",
    "            df.loc[i, 'Price_pl'] = avg"
   ]
  },
  {
   "cell_type": "code",
   "execution_count": 1209,
   "id": "5f238356-af9c-44cc-b544-3d0bdf65a6e3",
   "metadata": {},
   "outputs": [
    {
     "data": {
      "text/html": [
       "<div>\n",
       "<style scoped>\n",
       "    .dataframe tbody tr th:only-of-type {\n",
       "        vertical-align: middle;\n",
       "    }\n",
       "\n",
       "    .dataframe tbody tr th {\n",
       "        vertical-align: top;\n",
       "    }\n",
       "\n",
       "    .dataframe thead th {\n",
       "        text-align: right;\n",
       "    }\n",
       "</style>\n",
       "<table border=\"1\" class=\"dataframe\">\n",
       "  <thead>\n",
       "    <tr style=\"text-align: right;\">\n",
       "      <th></th>\n",
       "      <th>Date</th>\n",
       "      <th>Price_pl</th>\n",
       "    </tr>\n",
       "  </thead>\n",
       "  <tbody>\n",
       "    <tr>\n",
       "      <th>0</th>\n",
       "      <td>2015-11-12</td>\n",
       "      <td>1.049</td>\n",
       "    </tr>\n",
       "    <tr>\n",
       "      <th>1</th>\n",
       "      <td>2015-11-19</td>\n",
       "      <td>0.999</td>\n",
       "    </tr>\n",
       "    <tr>\n",
       "      <th>2</th>\n",
       "      <td>2015-12-07</td>\n",
       "      <td>0.999</td>\n",
       "    </tr>\n",
       "    <tr>\n",
       "      <th>3</th>\n",
       "      <td>2015-12-19</td>\n",
       "      <td>1.019</td>\n",
       "    </tr>\n",
       "    <tr>\n",
       "      <th>4</th>\n",
       "      <td>2016-01-04</td>\n",
       "      <td>1.019</td>\n",
       "    </tr>\n",
       "  </tbody>\n",
       "</table>\n",
       "</div>"
      ],
      "text/plain": [
       "        Date  Price_pl\n",
       "0 2015-11-12     1.049\n",
       "1 2015-11-19     0.999\n",
       "2 2015-12-07     0.999\n",
       "3 2015-12-19     1.019\n",
       "4 2016-01-04     1.019"
      ]
     },
     "execution_count": 1209,
     "metadata": {},
     "output_type": "execute_result"
    }
   ],
   "source": [
    "iterrow(df,'Price_pl')\n",
    "df.head()"
   ]
  },
  {
   "cell_type": "markdown",
   "id": "dd209651-ec41-4519-b1be-fc8058ae3536",
   "metadata": {},
   "source": [
    "### 3.2"
   ]
  },
  {
   "cell_type": "markdown",
   "id": "253474bc-74a4-4d00-9806-e5a4beddd5c1",
   "metadata": {},
   "source": [
    "#### max gas price"
   ]
  },
  {
   "cell_type": "code",
   "execution_count": 1210,
   "id": "fe5b89f7-b60a-45f4-bed8-248782dbc9fc",
   "metadata": {},
   "outputs": [
    {
     "name": "stdout",
     "output_type": "stream",
     "text": [
      "Max Value: 1.336 , Associated Max Index: 73 , Associated Date: 2018-05-23 00:00:00\n"
     ]
    }
   ],
   "source": [
    "column = df['Price_pl']\n",
    "column_b = df['Date']\n",
    "max_value = column.max()\n",
    "max_index = column.idxmax()\n",
    "date_index = column_b[max_index]\n",
    "print(\"Max Value:\", max_value, \",\", \"Associated Max Index:\", max_index, \",\",\"Associated Date:\", date_index)"
   ]
  },
  {
   "cell_type": "markdown",
   "id": "35012f5e-fc13-4b50-9413-aebf91ce4012",
   "metadata": {},
   "source": [
    "#### min gas price"
   ]
  },
  {
   "cell_type": "code",
   "execution_count": 1211,
   "id": "73dd22c4-7440-4519-a1f5-2755dd206a7a",
   "metadata": {},
   "outputs": [
    {
     "name": "stdout",
     "output_type": "stream",
     "text": [
      "Min Value: 0.889 , Associated Max Index: 9 , Associated Date: 2016-02-20 00:00:00\n"
     ]
    }
   ],
   "source": [
    "column = df['Price_pl']\n",
    "column_b = df['Date']\n",
    "min_value = column.min()\n",
    "min_index = column.idxmin()\n",
    "date_index = column_b[min_index]\n",
    "print(\"Min Value:\", min_value, \",\",\"Associated Max Index:\", min_index, \",\",\"Associated Date:\", date_index)"
   ]
  },
  {
   "cell_type": "markdown",
   "id": "54e88829-3e05-4e4c-8aa1-6937ad8252d4",
   "metadata": {},
   "source": [
    "### 3.3"
   ]
  },
  {
   "cell_type": "markdown",
   "id": "2465e2d4-10c5-43fd-aac1-d3c755da82d3",
   "metadata": {},
   "source": [
    "#### Mean, Quantile :"
   ]
  },
  {
   "cell_type": "code",
   "execution_count": 1212,
   "id": "fac51935-ac3f-4c88-a4f0-024c03683a64",
   "metadata": {},
   "outputs": [
    {
     "data": {
      "text/plain": [
       "count    82.000000\n",
       "mean      1.095390\n",
       "std       0.107164\n",
       "min       0.889000\n",
       "25%       1.019750\n",
       "50%       1.079000\n",
       "75%       1.171750\n",
       "max       1.336000\n",
       "Name: Price_pl, dtype: float64"
      ]
     },
     "execution_count": 1212,
     "metadata": {},
     "output_type": "execute_result"
    }
   ],
   "source": [
    "df['Price_pl'].describe()"
   ]
  },
  {
   "cell_type": "markdown",
   "id": "bd5444d4-b733-4ce1-a74a-a60168062b8a",
   "metadata": {},
   "source": [
    "#### Median, Skew & Kurtosis:"
   ]
  },
  {
   "cell_type": "code",
   "execution_count": 852,
   "id": "9442fe85-09af-475c-b356-6db57eb3610a",
   "metadata": {},
   "outputs": [
    {
     "data": {
      "text/plain": [
       "1.079"
      ]
     },
     "execution_count": 852,
     "metadata": {},
     "output_type": "execute_result"
    }
   ],
   "source": [
    "df['Price_pl'].median()"
   ]
  },
  {
   "cell_type": "code",
   "execution_count": 853,
   "id": "1acc5667-bbca-43c2-a033-15777f58de6e",
   "metadata": {},
   "outputs": [
    {
     "data": {
      "text/plain": [
       "0.46752591499730667"
      ]
     },
     "execution_count": 853,
     "metadata": {},
     "output_type": "execute_result"
    }
   ],
   "source": [
    "df['Price_pl'].skew() "
   ]
  },
  {
   "cell_type": "code",
   "execution_count": 854,
   "id": "b67eacb4-077e-40cb-9e0a-02d33edc3490",
   "metadata": {},
   "outputs": [
    {
     "data": {
      "text/plain": [
       "-0.257963187132765"
      ]
     },
     "execution_count": 854,
     "metadata": {},
     "output_type": "execute_result"
    }
   ],
   "source": [
    "df['Price_pl'].kurtosis()"
   ]
  },
  {
   "cell_type": "markdown",
   "id": "7f558939-e4e3-4618-a2b5-3f544efd7321",
   "metadata": {},
   "source": [
    "### 3.4"
   ]
  },
  {
   "cell_type": "code",
   "execution_count": 855,
   "id": "72fc6617-026e-41c8-a9ad-0900738bbfe6",
   "metadata": {},
   "outputs": [],
   "source": [
    "import matplotlib.pyplot as plt "
   ]
  },
  {
   "cell_type": "code",
   "execution_count": 856,
   "id": "07265263-678e-4b28-a3b0-df63e43d8074",
   "metadata": {},
   "outputs": [
    {
     "data": {
      "text/html": [
       "<div>\n",
       "<style scoped>\n",
       "    .dataframe tbody tr th:only-of-type {\n",
       "        vertical-align: middle;\n",
       "    }\n",
       "\n",
       "    .dataframe tbody tr th {\n",
       "        vertical-align: top;\n",
       "    }\n",
       "\n",
       "    .dataframe thead th {\n",
       "        text-align: right;\n",
       "    }\n",
       "</style>\n",
       "<table border=\"1\" class=\"dataframe\">\n",
       "  <thead>\n",
       "    <tr style=\"text-align: right;\">\n",
       "      <th></th>\n",
       "      <th>Date</th>\n",
       "      <th>Price_pl</th>\n",
       "      <th>year</th>\n",
       "      <th>month</th>\n",
       "    </tr>\n",
       "  </thead>\n",
       "  <tbody>\n",
       "    <tr>\n",
       "      <th>0</th>\n",
       "      <td>2015-11-12</td>\n",
       "      <td>1.049</td>\n",
       "      <td>2015</td>\n",
       "      <td>11</td>\n",
       "    </tr>\n",
       "    <tr>\n",
       "      <th>1</th>\n",
       "      <td>2015-11-19</td>\n",
       "      <td>0.999</td>\n",
       "      <td>2015</td>\n",
       "      <td>11</td>\n",
       "    </tr>\n",
       "    <tr>\n",
       "      <th>2</th>\n",
       "      <td>2015-12-07</td>\n",
       "      <td>0.999</td>\n",
       "      <td>2015</td>\n",
       "      <td>12</td>\n",
       "    </tr>\n",
       "    <tr>\n",
       "      <th>3</th>\n",
       "      <td>2015-12-19</td>\n",
       "      <td>1.019</td>\n",
       "      <td>2015</td>\n",
       "      <td>12</td>\n",
       "    </tr>\n",
       "    <tr>\n",
       "      <th>4</th>\n",
       "      <td>2016-01-04</td>\n",
       "      <td>1.019</td>\n",
       "      <td>2016</td>\n",
       "      <td>1</td>\n",
       "    </tr>\n",
       "  </tbody>\n",
       "</table>\n",
       "</div>"
      ],
      "text/plain": [
       "        Date  Price_pl  year  month\n",
       "0 2015-11-12     1.049  2015     11\n",
       "1 2015-11-19     0.999  2015     11\n",
       "2 2015-12-07     0.999  2015     12\n",
       "3 2015-12-19     1.019  2015     12\n",
       "4 2016-01-04     1.019  2016      1"
      ]
     },
     "execution_count": 856,
     "metadata": {},
     "output_type": "execute_result"
    }
   ],
   "source": [
    "import datetime\n",
    "df.style.format({\"DOB\": lambda t: t.strftime(\"%Y-%m-%d\")})\n",
    "df['year'] = pd.to_datetime(df['Date']).dt.year\n",
    "df['month'] = pd.to_datetime(df['Date']).dt.month\n",
    "df.head()"
   ]
  },
  {
   "cell_type": "code",
   "execution_count": 857,
   "id": "c2726da5-c7d0-48c8-9211-e2c29cf19389",
   "metadata": {},
   "outputs": [
    {
     "data": {
      "text/html": [
       "<div>\n",
       "<style scoped>\n",
       "    .dataframe tbody tr th:only-of-type {\n",
       "        vertical-align: middle;\n",
       "    }\n",
       "\n",
       "    .dataframe tbody tr th {\n",
       "        vertical-align: top;\n",
       "    }\n",
       "\n",
       "    .dataframe thead tr th {\n",
       "        text-align: left;\n",
       "    }\n",
       "\n",
       "    .dataframe thead tr:last-of-type th {\n",
       "        text-align: right;\n",
       "    }\n",
       "</style>\n",
       "<table border=\"1\" class=\"dataframe\">\n",
       "  <thead>\n",
       "    <tr>\n",
       "      <th></th>\n",
       "      <th colspan=\"4\" halign=\"left\">Price_pl</th>\n",
       "    </tr>\n",
       "    <tr>\n",
       "      <th>year</th>\n",
       "      <th>2015</th>\n",
       "      <th>2016</th>\n",
       "      <th>2017</th>\n",
       "      <th>2018</th>\n",
       "    </tr>\n",
       "    <tr>\n",
       "      <th>month</th>\n",
       "      <th></th>\n",
       "      <th></th>\n",
       "      <th></th>\n",
       "      <th></th>\n",
       "    </tr>\n",
       "  </thead>\n",
       "  <tbody>\n",
       "    <tr>\n",
       "      <th>1</th>\n",
       "      <td>NaN</td>\n",
       "      <td>0.964000</td>\n",
       "      <td>1.119000</td>\n",
       "      <td>1.197500</td>\n",
       "    </tr>\n",
       "    <tr>\n",
       "      <th>2</th>\n",
       "      <td>NaN</td>\n",
       "      <td>0.899000</td>\n",
       "      <td>1.079000</td>\n",
       "      <td>1.186000</td>\n",
       "    </tr>\n",
       "    <tr>\n",
       "      <th>3</th>\n",
       "      <td>NaN</td>\n",
       "      <td>0.929000</td>\n",
       "      <td>1.075000</td>\n",
       "      <td>1.215000</td>\n",
       "    </tr>\n",
       "    <tr>\n",
       "      <th>4</th>\n",
       "      <td>NaN</td>\n",
       "      <td>1.031500</td>\n",
       "      <td>1.175667</td>\n",
       "      <td>1.287750</td>\n",
       "    </tr>\n",
       "    <tr>\n",
       "      <th>5</th>\n",
       "      <td>NaN</td>\n",
       "      <td>1.075667</td>\n",
       "      <td>1.109000</td>\n",
       "      <td>1.328333</td>\n",
       "    </tr>\n",
       "  </tbody>\n",
       "</table>\n",
       "</div>"
      ],
      "text/plain": [
       "      Price_pl                              \n",
       "year      2015      2016      2017      2018\n",
       "month                                       \n",
       "1          NaN  0.964000  1.119000  1.197500\n",
       "2          NaN  0.899000  1.079000  1.186000\n",
       "3          NaN  0.929000  1.075000  1.215000\n",
       "4          NaN  1.031500  1.175667  1.287750\n",
       "5          NaN  1.075667  1.109000  1.328333"
      ]
     },
     "execution_count": 857,
     "metadata": {},
     "output_type": "execute_result"
    }
   ],
   "source": [
    "a = df.pivot_table(index = 'month', columns = 'year')\n",
    "a.head()"
   ]
  },
  {
   "cell_type": "code",
   "execution_count": 1214,
   "id": "75757844-858f-4338-87fa-bb97bf3c405d",
   "metadata": {},
   "outputs": [
    {
     "data": {
      "image/png": "[encoded data removed]",
      "text/plain": [
       "<Figure size 720x504 with 1 Axes>"
      ]
     },
     "metadata": {
      "needs_background": "light"
     },
     "output_type": "display_data"
    }
   ],
   "source": [
    "a.plot(figsize=(10,7))\n",
    "plt.ylabel('Price_pl')\n",
    "plt.title('Monthly Average Gas Price')\n",
    "plt.show()"
   ]
  },
  {
   "cell_type": "markdown",
   "id": "4556ef53-adba-48b6-8a95-d8fe6b99a8e3",
   "metadata": {},
   "source": [
    "#### 3.5"
   ]
  },
  {
   "cell_type": "code",
   "execution_count": 859,
   "id": "0c5a2800-6756-44dd-8c4c-bf2f49c043df",
   "metadata": {},
   "outputs": [
    {
     "data": {
      "text/html": [
       "<div>\n",
       "<style scoped>\n",
       "    .dataframe tbody tr th:only-of-type {\n",
       "        vertical-align: middle;\n",
       "    }\n",
       "\n",
       "    .dataframe tbody tr th {\n",
       "        vertical-align: top;\n",
       "    }\n",
       "\n",
       "    .dataframe thead th {\n",
       "        text-align: right;\n",
       "    }\n",
       "</style>\n",
       "<table border=\"1\" class=\"dataframe\">\n",
       "  <thead>\n",
       "    <tr style=\"text-align: right;\">\n",
       "      <th></th>\n",
       "      <th>Date</th>\n",
       "      <th>Price_pl</th>\n",
       "      <th>year</th>\n",
       "      <th>month</th>\n",
       "      <th>season</th>\n",
       "    </tr>\n",
       "  </thead>\n",
       "  <tbody>\n",
       "    <tr>\n",
       "      <th>0</th>\n",
       "      <td>2015-11-12</td>\n",
       "      <td>1.049</td>\n",
       "      <td>2015</td>\n",
       "      <td>11</td>\n",
       "      <td>Fall</td>\n",
       "    </tr>\n",
       "    <tr>\n",
       "      <th>1</th>\n",
       "      <td>2015-11-19</td>\n",
       "      <td>0.999</td>\n",
       "      <td>2015</td>\n",
       "      <td>11</td>\n",
       "      <td>Fall</td>\n",
       "    </tr>\n",
       "    <tr>\n",
       "      <th>2</th>\n",
       "      <td>2015-12-07</td>\n",
       "      <td>0.999</td>\n",
       "      <td>2015</td>\n",
       "      <td>12</td>\n",
       "      <td>Winter</td>\n",
       "    </tr>\n",
       "    <tr>\n",
       "      <th>3</th>\n",
       "      <td>2015-12-19</td>\n",
       "      <td>1.019</td>\n",
       "      <td>2015</td>\n",
       "      <td>12</td>\n",
       "      <td>Winter</td>\n",
       "    </tr>\n",
       "    <tr>\n",
       "      <th>4</th>\n",
       "      <td>2016-01-04</td>\n",
       "      <td>1.019</td>\n",
       "      <td>2016</td>\n",
       "      <td>1</td>\n",
       "      <td>Winter</td>\n",
       "    </tr>\n",
       "  </tbody>\n",
       "</table>\n",
       "</div>"
      ],
      "text/plain": [
       "        Date  Price_pl  year  month  season\n",
       "0 2015-11-12     1.049  2015     11    Fall\n",
       "1 2015-11-19     0.999  2015     11    Fall\n",
       "2 2015-12-07     0.999  2015     12  Winter\n",
       "3 2015-12-19     1.019  2015     12  Winter\n",
       "4 2016-01-04     1.019  2016      1  Winter"
      ]
     },
     "execution_count": 859,
     "metadata": {},
     "output_type": "execute_result"
    }
   ],
   "source": [
    "df['season'] = df.month%12 // 3 + 1\n",
    "df['season'] = df['season'].map({1:'Winter',2:'Spring',3:'Summer',4:'Fall'})\n",
    "df.head()"
   ]
  },
  {
   "cell_type": "code",
   "execution_count": 860,
   "id": "23c2d9b9-ba4e-4481-a69f-e065da1c3c27",
   "metadata": {},
   "outputs": [
    {
     "data": {
      "text/html": [
       "<div>\n",
       "<style scoped>\n",
       "    .dataframe tbody tr th:only-of-type {\n",
       "        vertical-align: middle;\n",
       "    }\n",
       "\n",
       "    .dataframe tbody tr th {\n",
       "        vertical-align: top;\n",
       "    }\n",
       "\n",
       "    .dataframe thead th {\n",
       "        text-align: right;\n",
       "    }\n",
       "</style>\n",
       "<table border=\"1\" class=\"dataframe\">\n",
       "  <thead>\n",
       "    <tr style=\"text-align: right;\">\n",
       "      <th></th>\n",
       "      <th></th>\n",
       "      <th>Price_pl</th>\n",
       "    </tr>\n",
       "    <tr>\n",
       "      <th>month</th>\n",
       "      <th>season</th>\n",
       "      <th></th>\n",
       "    </tr>\n",
       "  </thead>\n",
       "  <tbody>\n",
       "    <tr>\n",
       "      <th>1</th>\n",
       "      <th>Winter</th>\n",
       "      <td>1.072700</td>\n",
       "    </tr>\n",
       "    <tr>\n",
       "      <th>2</th>\n",
       "      <th>Winter</th>\n",
       "      <td>1.058143</td>\n",
       "    </tr>\n",
       "    <tr>\n",
       "      <th>3</th>\n",
       "      <th>Spring</th>\n",
       "      <td>1.087800</td>\n",
       "    </tr>\n",
       "    <tr>\n",
       "      <th>4</th>\n",
       "      <th>Spring</th>\n",
       "      <td>1.166500</td>\n",
       "    </tr>\n",
       "    <tr>\n",
       "      <th>5</th>\n",
       "      <th>Spring</th>\n",
       "      <td>1.154800</td>\n",
       "    </tr>\n",
       "    <tr>\n",
       "      <th>6</th>\n",
       "      <th>Summer</th>\n",
       "      <td>1.091000</td>\n",
       "    </tr>\n",
       "    <tr>\n",
       "      <th>7</th>\n",
       "      <th>Summer</th>\n",
       "      <td>1.146400</td>\n",
       "    </tr>\n",
       "    <tr>\n",
       "      <th>8</th>\n",
       "      <th>Summer</th>\n",
       "      <td>1.039643</td>\n",
       "    </tr>\n",
       "    <tr>\n",
       "      <th>9</th>\n",
       "      <th>Fall</th>\n",
       "      <td>1.042500</td>\n",
       "    </tr>\n",
       "    <tr>\n",
       "      <th>10</th>\n",
       "      <th>Fall</th>\n",
       "      <td>1.108250</td>\n",
       "    </tr>\n",
       "    <tr>\n",
       "      <th>11</th>\n",
       "      <th>Fall</th>\n",
       "      <td>1.063750</td>\n",
       "    </tr>\n",
       "    <tr>\n",
       "      <th>12</th>\n",
       "      <th>Winter</th>\n",
       "      <td>1.086286</td>\n",
       "    </tr>\n",
       "  </tbody>\n",
       "</table>\n",
       "</div>"
      ],
      "text/plain": [
       "              Price_pl\n",
       "month season          \n",
       "1     Winter  1.072700\n",
       "2     Winter  1.058143\n",
       "3     Spring  1.087800\n",
       "4     Spring  1.166500\n",
       "5     Spring  1.154800\n",
       "6     Summer  1.091000\n",
       "7     Summer  1.146400\n",
       "8     Summer  1.039643\n",
       "9     Fall    1.042500\n",
       "10    Fall    1.108250\n",
       "11    Fall    1.063750\n",
       "12    Winter  1.086286"
      ]
     },
     "execution_count": 860,
     "metadata": {},
     "output_type": "execute_result"
    }
   ],
   "source": [
    "b = df.pivot_table(index = ['month','season'], values = 'Price_pl')\n",
    "b"
   ]
  },
  {
   "cell_type": "code",
   "execution_count": 861,
   "id": "2bdea61b-f401-48e7-8c17-54f445bf82cd",
   "metadata": {},
   "outputs": [
    {
     "data": {
      "text/html": [
       "<div>\n",
       "<style scoped>\n",
       "    .dataframe tbody tr th:only-of-type {\n",
       "        vertical-align: middle;\n",
       "    }\n",
       "\n",
       "    .dataframe tbody tr th {\n",
       "        vertical-align: top;\n",
       "    }\n",
       "\n",
       "    .dataframe thead th {\n",
       "        text-align: right;\n",
       "    }\n",
       "</style>\n",
       "<table border=\"1\" class=\"dataframe\">\n",
       "  <thead>\n",
       "    <tr style=\"text-align: right;\">\n",
       "      <th></th>\n",
       "      <th>Price_pl</th>\n",
       "    </tr>\n",
       "    <tr>\n",
       "      <th>season</th>\n",
       "      <th></th>\n",
       "    </tr>\n",
       "  </thead>\n",
       "  <tbody>\n",
       "    <tr>\n",
       "      <th>Fall</th>\n",
       "      <td>1.073429</td>\n",
       "    </tr>\n",
       "    <tr>\n",
       "      <th>Spring</th>\n",
       "      <td>1.133019</td>\n",
       "    </tr>\n",
       "    <tr>\n",
       "      <th>Summer</th>\n",
       "      <td>1.086147</td>\n",
       "    </tr>\n",
       "    <tr>\n",
       "      <th>Winter</th>\n",
       "      <td>1.072417</td>\n",
       "    </tr>\n",
       "  </tbody>\n",
       "</table>\n",
       "</div>"
      ],
      "text/plain": [
       "        Price_pl\n",
       "season          \n",
       "Fall    1.073429\n",
       "Spring  1.133019\n",
       "Summer  1.086147\n",
       "Winter  1.072417"
      ]
     },
     "execution_count": 861,
     "metadata": {},
     "output_type": "execute_result"
    }
   ],
   "source": [
    "e = df.pivot_table(index = ['season'], values = 'Price_pl')\n",
    "e"
   ]
  },
  {
   "cell_type": "markdown",
   "id": "dd9ab50f-1065-4504-a0bd-68799ed41f85",
   "metadata": {},
   "source": [
    "## 4. Pivot, aggregate and plot timeseries"
   ]
  },
  {
   "cell_type": "markdown",
   "id": "76aed5cf-31eb-4edf-96f7-63b5d8002f5f",
   "metadata": {},
   "source": [
    "### 4.1"
   ]
  },
  {
   "cell_type": "code",
   "execution_count": 1178,
   "id": "a3eefa51-53e0-4258-9088-d3afaa1a29c6",
   "metadata": {},
   "outputs": [],
   "source": [
    "import pandas as pd\n",
    "import numpy as np\n",
    "import matplotlib.pyplot as plt "
   ]
  },
  {
   "cell_type": "code",
   "execution_count": 1179,
   "id": "d5ab6f0f-81ad-4643-a5bc-6855527d02fe",
   "metadata": {},
   "outputs": [
    {
     "data": {
      "text/html": [
       "<div>\n",
       "<style scoped>\n",
       "    .dataframe tbody tr th:only-of-type {\n",
       "        vertical-align: middle;\n",
       "    }\n",
       "\n",
       "    .dataframe tbody tr th {\n",
       "        vertical-align: top;\n",
       "    }\n",
       "\n",
       "    .dataframe thead th {\n",
       "        text-align: right;\n",
       "    }\n",
       "</style>\n",
       "<table border=\"1\" class=\"dataframe\">\n",
       "  <thead>\n",
       "    <tr style=\"text-align: right;\">\n",
       "      <th></th>\n",
       "      <th>MonthYear</th>\n",
       "      <th>Sales</th>\n",
       "      <th>AveragePrice</th>\n",
       "    </tr>\n",
       "  </thead>\n",
       "  <tbody>\n",
       "    <tr>\n",
       "      <th>0</th>\n",
       "      <td>January-2017</td>\n",
       "      <td>5,155</td>\n",
       "      <td>$768,351</td>\n",
       "    </tr>\n",
       "    <tr>\n",
       "      <th>1</th>\n",
       "      <td>February-2017</td>\n",
       "      <td>7,955</td>\n",
       "      <td>$876,363</td>\n",
       "    </tr>\n",
       "    <tr>\n",
       "      <th>2</th>\n",
       "      <td>March-2017</td>\n",
       "      <td>11,959</td>\n",
       "      <td>$915,353</td>\n",
       "    </tr>\n",
       "    <tr>\n",
       "      <th>3</th>\n",
       "      <td>April-2017</td>\n",
       "      <td>11,470</td>\n",
       "      <td>$918,138</td>\n",
       "    </tr>\n",
       "    <tr>\n",
       "      <th>4</th>\n",
       "      <td>May-2017</td>\n",
       "      <td>10,068</td>\n",
       "      <td>$862,109</td>\n",
       "    </tr>\n",
       "  </tbody>\n",
       "</table>\n",
       "</div>"
      ],
      "text/plain": [
       "       MonthYear   Sales AveragePrice\n",
       "0   January-2017   5,155     $768,351\n",
       "1  February-2017   7,955     $876,363\n",
       "2     March-2017  11,959     $915,353\n",
       "3     April-2017  11,470     $918,138\n",
       "4       May-2017  10,068     $862,109"
      ]
     },
     "execution_count": 1179,
     "metadata": {},
     "output_type": "execute_result"
    }
   ],
   "source": [
    "df = pd.read_csv('TREB_Data .csv')\n",
    "df.head()"
   ]
  },
  {
   "cell_type": "code",
   "execution_count": 1180,
   "id": "1be2954b-d0be-4265-afd5-2e85339ad451",
   "metadata": {},
   "outputs": [
    {
     "data": {
      "text/html": [
       "<div>\n",
       "<style scoped>\n",
       "    .dataframe tbody tr th:only-of-type {\n",
       "        vertical-align: middle;\n",
       "    }\n",
       "\n",
       "    .dataframe tbody tr th {\n",
       "        vertical-align: top;\n",
       "    }\n",
       "\n",
       "    .dataframe thead th {\n",
       "        text-align: right;\n",
       "    }\n",
       "</style>\n",
       "<table border=\"1\" class=\"dataframe\">\n",
       "  <thead>\n",
       "    <tr style=\"text-align: right;\">\n",
       "      <th></th>\n",
       "      <th>MonthYear</th>\n",
       "      <th>Sales</th>\n",
       "      <th>AveragePrice</th>\n",
       "      <th>Month</th>\n",
       "      <th>Year</th>\n",
       "    </tr>\n",
       "  </thead>\n",
       "  <tbody>\n",
       "    <tr>\n",
       "      <th>0</th>\n",
       "      <td>January-2017</td>\n",
       "      <td>5,155</td>\n",
       "      <td>$768,351</td>\n",
       "      <td>January</td>\n",
       "      <td>2017</td>\n",
       "    </tr>\n",
       "    <tr>\n",
       "      <th>1</th>\n",
       "      <td>February-2017</td>\n",
       "      <td>7,955</td>\n",
       "      <td>$876,363</td>\n",
       "      <td>February</td>\n",
       "      <td>2017</td>\n",
       "    </tr>\n",
       "    <tr>\n",
       "      <th>2</th>\n",
       "      <td>March-2017</td>\n",
       "      <td>11,959</td>\n",
       "      <td>$915,353</td>\n",
       "      <td>March</td>\n",
       "      <td>2017</td>\n",
       "    </tr>\n",
       "    <tr>\n",
       "      <th>3</th>\n",
       "      <td>April-2017</td>\n",
       "      <td>11,470</td>\n",
       "      <td>$918,138</td>\n",
       "      <td>April</td>\n",
       "      <td>2017</td>\n",
       "    </tr>\n",
       "    <tr>\n",
       "      <th>4</th>\n",
       "      <td>May-2017</td>\n",
       "      <td>10,068</td>\n",
       "      <td>$862,109</td>\n",
       "      <td>May</td>\n",
       "      <td>2017</td>\n",
       "    </tr>\n",
       "  </tbody>\n",
       "</table>\n",
       "</div>"
      ],
      "text/plain": [
       "       MonthYear   Sales AveragePrice     Month  Year\n",
       "0   January-2017   5,155     $768,351   January  2017\n",
       "1  February-2017   7,955     $876,363  February  2017\n",
       "2     March-2017  11,959     $915,353     March  2017\n",
       "3     April-2017  11,470     $918,138     April  2017\n",
       "4       May-2017  10,068     $862,109       May  2017"
      ]
     },
     "execution_count": 1180,
     "metadata": {},
     "output_type": "execute_result"
    }
   ],
   "source": [
    "df_split = df['MonthYear']\n",
    "df[['Month','Year']] = df_split.str.split(\"-\", n=1, expand=True)\n",
    "df.head()"
   ]
  },
  {
   "cell_type": "code",
   "execution_count": 1117,
   "id": "0ba4a92b-d6d2-4494-a562-cf4c0340b9d7",
   "metadata": {},
   "outputs": [
    {
     "data": {
      "text/html": [
       "<div>\n",
       "<style scoped>\n",
       "    .dataframe tbody tr th:only-of-type {\n",
       "        vertical-align: middle;\n",
       "    }\n",
       "\n",
       "    .dataframe tbody tr th {\n",
       "        vertical-align: top;\n",
       "    }\n",
       "\n",
       "    .dataframe thead th {\n",
       "        text-align: right;\n",
       "    }\n",
       "</style>\n",
       "<table border=\"1\" class=\"dataframe\">\n",
       "  <thead>\n",
       "    <tr style=\"text-align: right;\">\n",
       "      <th>Year</th>\n",
       "      <th>2013</th>\n",
       "      <th>2014</th>\n",
       "      <th>2015</th>\n",
       "      <th>2016</th>\n",
       "      <th>2017</th>\n",
       "    </tr>\n",
       "    <tr>\n",
       "      <th>Month</th>\n",
       "      <th></th>\n",
       "      <th></th>\n",
       "      <th></th>\n",
       "      <th></th>\n",
       "      <th></th>\n",
       "    </tr>\n",
       "  </thead>\n",
       "  <tbody>\n",
       "    <tr>\n",
       "      <th>January</th>\n",
       "      <td>4,230</td>\n",
       "      <td>4,103</td>\n",
       "      <td>4,318</td>\n",
       "      <td>4,640</td>\n",
       "      <td>5,155</td>\n",
       "    </tr>\n",
       "    <tr>\n",
       "      <th>February</th>\n",
       "      <td>5,615</td>\n",
       "      <td>5,696</td>\n",
       "      <td>6,294</td>\n",
       "      <td>7,582</td>\n",
       "      <td>7,955</td>\n",
       "    </tr>\n",
       "    <tr>\n",
       "      <th>March</th>\n",
       "      <td>7,536</td>\n",
       "      <td>8,052</td>\n",
       "      <td>8,886</td>\n",
       "      <td>10,260</td>\n",
       "      <td>11,959</td>\n",
       "    </tr>\n",
       "    <tr>\n",
       "      <th>April</th>\n",
       "      <td>9,537</td>\n",
       "      <td>9,660</td>\n",
       "      <td>11,254</td>\n",
       "      <td>12,016</td>\n",
       "      <td>11,470</td>\n",
       "    </tr>\n",
       "    <tr>\n",
       "      <th>May</th>\n",
       "      <td>9,945</td>\n",
       "      <td>11,013</td>\n",
       "      <td>11,640</td>\n",
       "      <td>12,789</td>\n",
       "      <td>10,068</td>\n",
       "    </tr>\n",
       "    <tr>\n",
       "      <th>June</th>\n",
       "      <td>8,821</td>\n",
       "      <td>10,132</td>\n",
       "      <td>11,905</td>\n",
       "      <td>12,725</td>\n",
       "      <td>7,896</td>\n",
       "    </tr>\n",
       "    <tr>\n",
       "      <th>July</th>\n",
       "      <td>8,367</td>\n",
       "      <td>9,152</td>\n",
       "      <td>9,813</td>\n",
       "      <td>9,929</td>\n",
       "      <td>5,871</td>\n",
       "    </tr>\n",
       "    <tr>\n",
       "      <th>August</th>\n",
       "      <td>7,390</td>\n",
       "      <td>7,568</td>\n",
       "      <td>7,943</td>\n",
       "      <td>9,748</td>\n",
       "      <td>6,310</td>\n",
       "    </tr>\n",
       "    <tr>\n",
       "      <th>September</th>\n",
       "      <td>7,256</td>\n",
       "      <td>8,001</td>\n",
       "      <td>8,147</td>\n",
       "      <td>9,828</td>\n",
       "      <td>6,340</td>\n",
       "    </tr>\n",
       "    <tr>\n",
       "      <th>October</th>\n",
       "      <td>7,940</td>\n",
       "      <td>8,512</td>\n",
       "      <td>8,759</td>\n",
       "      <td>9,715</td>\n",
       "      <td>7,087</td>\n",
       "    </tr>\n",
       "    <tr>\n",
       "      <th>November</th>\n",
       "      <td>6,354</td>\n",
       "      <td>6,475</td>\n",
       "      <td>7,337</td>\n",
       "      <td>8,503</td>\n",
       "      <td>7,353</td>\n",
       "    </tr>\n",
       "    <tr>\n",
       "      <th>December</th>\n",
       "      <td>4,058</td>\n",
       "      <td>4,418</td>\n",
       "      <td>4,917</td>\n",
       "      <td>5,305</td>\n",
       "      <td>4,930</td>\n",
       "    </tr>\n",
       "  </tbody>\n",
       "</table>\n",
       "</div>"
      ],
      "text/plain": [
       "Year        2013    2014    2015    2016    2017\n",
       "Month                                           \n",
       "January    4,230   4,103   4,318   4,640   5,155\n",
       "February   5,615   5,696   6,294   7,582   7,955\n",
       "March      7,536   8,052   8,886  10,260  11,959\n",
       "April      9,537   9,660  11,254  12,016  11,470\n",
       "May        9,945  11,013  11,640  12,789  10,068\n",
       "June       8,821  10,132  11,905  12,725   7,896\n",
       "July       8,367   9,152   9,813   9,929   5,871\n",
       "August     7,390   7,568   7,943   9,748   6,310\n",
       "September  7,256   8,001   8,147   9,828   6,340\n",
       "October    7,940   8,512   8,759   9,715   7,087\n",
       "November   6,354   6,475   7,337   8,503   7,353\n",
       "December   4,058   4,418   4,917   5,305   4,930"
      ]
     },
     "execution_count": 1117,
     "metadata": {},
     "output_type": "execute_result"
    }
   ],
   "source": [
    "df_pt = df.pivot_table(values='Sales', index='Month', columns='Year', aggfunc=np.sum)\n",
    "index_order = ['January', 'February', 'March', 'April', 'May', 'June', 'July', 'August', 'September',\n",
    "         'October', 'November', 'December']\n",
    "df_pt = pt.reindex(index_order, axis=0)\n",
    "df_pt"
   ]
  },
  {
   "cell_type": "markdown",
   "id": "0a6d99b0-d34e-4abb-9960-2b534cee9a0f",
   "metadata": {},
   "source": [
    "### 4.2"
   ]
  },
  {
   "cell_type": "code",
   "execution_count": 1183,
   "id": "65d8280a-3db5-4f24-bce8-4be5dbcbd6e0",
   "metadata": {},
   "outputs": [],
   "source": [
    "df_pt = df_pt.replace(',','', regex=True)"
   ]
  },
  {
   "cell_type": "code",
   "execution_count": 1216,
   "id": "278780ad-481c-40e0-a3a9-9cdd782ab681",
   "metadata": {},
   "outputs": [
    {
     "data": {
      "text/plain": [
       "Year\n",
       "2013    float64\n",
       "2014    float64\n",
       "2015    float64\n",
       "2016    float64\n",
       "2017    float64\n",
       "dtype: object"
      ]
     },
     "execution_count": 1216,
     "metadata": {},
     "output_type": "execute_result"
    }
   ],
   "source": [
    "df_pt['2013']=df_pt['2013'].astype(float)\n",
    "df_pt['2014']=df_pt['2013'].astype(float)\n",
    "df_pt['2015']=df_pt['2015'].astype(float)\n",
    "df_pt['2016']=df_pt['2016'].astype(float)\n",
    "df_pt['2017']=df_pt['2017'].astype(float)\n",
    "df_pt.dtypes\n",
    "# i  had to change remove commas and turn sales values that were strings into float's so i could plot. Would not let me plot strings. \n",
    "# there is for sure an easier way to do this but im not good enough at python (yet) to do it"
   ]
  },
  {
   "cell_type": "code",
   "execution_count": 1185,
   "id": "003388ca-dde2-465e-b8da-ca927328eddf",
   "metadata": {},
   "outputs": [
    {
     "data": {
      "image/png": "[encoded data removed]",
      "text/plain": [
       "<Figure size 432x288 with 1 Axes>"
      ]
     },
     "metadata": {
      "needs_background": "light"
     },
     "output_type": "display_data"
    }
   ],
   "source": [
    "df_pt.plot(title='Monthly v.s. Sales')\n",
    "plt.xticks(rotation=45)\n",
    "plt.ylabel('Sales')\n",
    "plt.show()"
   ]
  },
  {
   "cell_type": "markdown",
   "id": "8534f0b4-026b-4eff-856d-6b5f4146d21b",
   "metadata": {},
   "source": [
    "### 4.3"
   ]
  },
  {
   "cell_type": "code",
   "execution_count": 1219,
   "id": "cf07890b-fe43-40de-aed1-af470d1d60af",
   "metadata": {},
   "outputs": [],
   "source": [
    "# a) group by year pre-pivot"
   ]
  },
  {
   "cell_type": "code",
   "execution_count": 1175,
   "id": "83bf35bd-37a5-48a0-ae2a-d7fd21b2aca9",
   "metadata": {},
   "outputs": [
    {
     "name": "stdout",
     "output_type": "stream",
     "text": [
      "Year\n",
      "2013     87049.0\n",
      "2014     87049.0\n",
      "2015    101213.0\n",
      "2016    113040.0\n",
      "2017     92394.0\n",
      "dtype: float64\n"
     ]
    },
    {
     "data": {
      "image/png": "[encoded data removed]",
      "text/plain": [
       "<Figure size 432x288 with 1 Axes>"
      ]
     },
     "metadata": {
      "needs_background": "light"
     },
     "output_type": "display_data"
    }
   ],
   "source": [
    "# b) 5 columns summed post-pivot\n",
    "print (df_pt.sum())\n",
    "df_pt.sum().plot(kind='bar', title='Total Sales/Year')\n",
    "plt.ylabel('Sales')\n",
    "plt.show()"
   ]
  }
 ],
 "metadata": {
  "kernelspec": {
   "display_name": "Python 3",
   "language": "python",
   "name": "python3"
  },
  "language_info": {
   "codemirror_mode": {
    "name": "ipython",
    "version": 3
   },
   "file_extension": ".py",
   "mimetype": "text/x-python",
   "name": "python",
   "nbconvert_exporter": "python",
   "pygments_lexer": "ipython3",
   "version": "3.8.8"
  }
 },
 "nbformat": 4,
 "nbformat_minor": 5
}
